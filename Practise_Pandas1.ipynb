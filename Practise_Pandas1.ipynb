{
 "cells": [
  {
   "cell_type": "code",
   "execution_count": 1,
   "id": "85a03c4d",
   "metadata": {},
   "outputs": [],
   "source": [
    "import pandas as pd"
   ]
  },
  {
   "cell_type": "code",
   "execution_count": 117,
   "id": "bc5f2291",
   "metadata": {},
   "outputs": [],
   "source": [
    "customer_reviews = [\n",
    "\n",
    "               {'product_id': 101, 'review': 'This product is amazing! I love it.'},\n",
    "\n",
    "               {'product_id': 102, 'review': 'The quality is not as expected. Disappointed.'},\n",
    "\n",
    "               {'product_id': 103, 'review': 'Great value for the price. Highly recommended.'},\n",
    "\n",
    "               {'product_id': 104, 'review': 'Not happy with the purchase. Will return it.'},\n",
    "\n",
    "               {'product_id': 105, 'review': 'Excellent service. Fast delivery.'}\n",
    "]\n",
    "\n"
   ]
  },
  {
   "cell_type": "code",
   "execution_count": 118,
   "id": "56dbd98f",
   "metadata": {},
   "outputs": [],
   "source": [
    "reviews = pd.DataFrame(customer_reviews)"
   ]
  },
  {
   "cell_type": "code",
   "execution_count": 119,
   "id": "9690a8ef",
   "metadata": {},
   "outputs": [
    {
     "data": {
      "text/html": [
       "<div>\n",
       "<style scoped>\n",
       "    .dataframe tbody tr th:only-of-type {\n",
       "        vertical-align: middle;\n",
       "    }\n",
       "\n",
       "    .dataframe tbody tr th {\n",
       "        vertical-align: top;\n",
       "    }\n",
       "\n",
       "    .dataframe thead th {\n",
       "        text-align: right;\n",
       "    }\n",
       "</style>\n",
       "<table border=\"1\" class=\"dataframe\">\n",
       "  <thead>\n",
       "    <tr style=\"text-align: right;\">\n",
       "      <th></th>\n",
       "      <th>product_id</th>\n",
       "      <th>review</th>\n",
       "    </tr>\n",
       "  </thead>\n",
       "  <tbody>\n",
       "    <tr>\n",
       "      <th>0</th>\n",
       "      <td>101</td>\n",
       "      <td>This product is amazing! I love it.</td>\n",
       "    </tr>\n",
       "    <tr>\n",
       "      <th>1</th>\n",
       "      <td>102</td>\n",
       "      <td>The quality is not as expected. Disappointed.</td>\n",
       "    </tr>\n",
       "    <tr>\n",
       "      <th>2</th>\n",
       "      <td>103</td>\n",
       "      <td>Great value for the price. Highly recommended.</td>\n",
       "    </tr>\n",
       "    <tr>\n",
       "      <th>3</th>\n",
       "      <td>104</td>\n",
       "      <td>Not happy with the purchase. Will return it.</td>\n",
       "    </tr>\n",
       "    <tr>\n",
       "      <th>4</th>\n",
       "      <td>105</td>\n",
       "      <td>Excellent service. Fast delivery.</td>\n",
       "    </tr>\n",
       "  </tbody>\n",
       "</table>\n",
       "</div>"
      ],
      "text/plain": [
       "   product_id                                          review\n",
       "0         101             This product is amazing! I love it.\n",
       "1         102   The quality is not as expected. Disappointed.\n",
       "2         103  Great value for the price. Highly recommended.\n",
       "3         104    Not happy with the purchase. Will return it.\n",
       "4         105               Excellent service. Fast delivery."
      ]
     },
     "execution_count": 119,
     "metadata": {},
     "output_type": "execute_result"
    }
   ],
   "source": [
    "reviews"
   ]
  },
  {
   "cell_type": "markdown",
   "id": "cc167752",
   "metadata": {},
   "source": [
    "## Identify and count the number of reviews that express a positive sentiment.\n"
   ]
  },
  {
   "cell_type": "code",
   "execution_count": 97,
   "id": "232d7f95",
   "metadata": {},
   "outputs": [
    {
     "name": "stderr",
     "output_type": "stream",
     "text": [
      "C:\\Users\\USER\\AppData\\Local\\Temp\\ipykernel_37028\\2998614618.py:1: UserWarning: This pattern is interpreted as a regular expression, and has match groups. To actually get the groups, use str.extract.\n",
      "  positive_reviews = reviews.review[reviews.review.str.contains(\"(amazing|Great value|Excellent)&make\")]\n"
     ]
    },
    {
     "data": {
      "text/plain": [
       "Series([], Name: review, dtype: object)"
      ]
     },
     "execution_count": 97,
     "metadata": {},
     "output_type": "execute_result"
    }
   ],
   "source": [
    "positive_reviews = reviews.review[reviews.review.str.contains(\"amazing|Great value|Excellent\")]\n",
    "positive_reviews"
   ]
  },
  {
   "cell_type": "code",
   "execution_count": 24,
   "id": "b2ffb5f2",
   "metadata": {},
   "outputs": [
    {
     "data": {
      "text/plain": [
       "3"
      ]
     },
     "execution_count": 24,
     "metadata": {},
     "output_type": "execute_result"
    }
   ],
   "source": [
    "len(positive_reviews)"
   ]
  },
  {
   "cell_type": "markdown",
   "id": "655d4e1f",
   "metadata": {},
   "source": [
    "## Identify and list the product IDs and reviews for the products with negative sentiments.\n"
   ]
  },
  {
   "cell_type": "code",
   "execution_count": 25,
   "id": "f8613da4",
   "metadata": {},
   "outputs": [
    {
     "data": {
      "text/html": [
       "<div>\n",
       "<style scoped>\n",
       "    .dataframe tbody tr th:only-of-type {\n",
       "        vertical-align: middle;\n",
       "    }\n",
       "\n",
       "    .dataframe tbody tr th {\n",
       "        vertical-align: top;\n",
       "    }\n",
       "\n",
       "    .dataframe thead th {\n",
       "        text-align: right;\n",
       "    }\n",
       "</style>\n",
       "<table border=\"1\" class=\"dataframe\">\n",
       "  <thead>\n",
       "    <tr style=\"text-align: right;\">\n",
       "      <th></th>\n",
       "      <th>product_id</th>\n",
       "      <th>review</th>\n",
       "    </tr>\n",
       "  </thead>\n",
       "  <tbody>\n",
       "    <tr>\n",
       "      <th>1</th>\n",
       "      <td>102</td>\n",
       "      <td>The quality is not as expected. Disappointed.</td>\n",
       "    </tr>\n",
       "    <tr>\n",
       "      <th>3</th>\n",
       "      <td>104</td>\n",
       "      <td>Not happy with the purchase. Will return it.</td>\n",
       "    </tr>\n",
       "  </tbody>\n",
       "</table>\n",
       "</div>"
      ],
      "text/plain": [
       "   product_id                                         review\n",
       "1         102  The quality is not as expected. Disappointed.\n",
       "3         104   Not happy with the purchase. Will return it."
      ]
     },
     "execution_count": 25,
     "metadata": {},
     "output_type": "execute_result"
    }
   ],
   "source": [
    "negative_reviews = reviews[reviews.review.str.contains(\"not|Not\")]\n",
    "negative_reviews"
   ]
  },
  {
   "cell_type": "markdown",
   "id": "1420d845",
   "metadata": {},
   "source": [
    "## Calculate the average length (number of words) of the reviews.\n"
   ]
  },
  {
   "cell_type": "code",
   "execution_count": 34,
   "id": "2278a5fa",
   "metadata": {},
   "outputs": [
    {
     "data": {
      "text/plain": [
       "6.6"
      ]
     },
     "execution_count": 34,
     "metadata": {},
     "output_type": "execute_result"
    }
   ],
   "source": [
    "total  = 0\n",
    "for i in reviews.review.str.split(\" \"):\n",
    "    total = total + len(i)\n",
    "average_length = sum/len(reviews.review)\n",
    "average_length"
   ]
  },
  {
   "cell_type": "markdown",
   "id": "1e66316f",
   "metadata": {},
   "source": [
    "## Determine the product that is mentioned the most in the reviews.\n"
   ]
  },
  {
   "cell_type": "code",
   "execution_count": 46,
   "id": "9da3b17b",
   "metadata": {},
   "outputs": [
    {
     "data": {
      "text/plain": [
       "(101, 1)"
      ]
     },
     "execution_count": 46,
     "metadata": {},
     "output_type": "execute_result"
    }
   ],
   "source": [
    "review_counts = reviews['product_id'].value_counts()\n",
    "most_reviewed_product = review_counts.idxmax()\n",
    "most_reviewed_product_count = review_counts.max()\n",
    "\n",
    "most_reviewed_product, most_reviewed_product_count"
   ]
  },
  {
   "cell_type": "code",
   "execution_count": 47,
   "id": "2f123ef5",
   "metadata": {},
   "outputs": [
    {
     "data": {
      "text/plain": [
       "101"
      ]
     },
     "execution_count": 47,
     "metadata": {},
     "output_type": "execute_result"
    }
   ],
   "source": [
    "review_counts.idxmax()"
   ]
  },
  {
   "cell_type": "markdown",
   "id": "5e95e8f1",
   "metadata": {},
   "source": [
    "## Create a distribution of sentiments (positive, negative, neutral) for the reviews.\n"
   ]
  },
  {
   "cell_type": "code",
   "execution_count": 54,
   "id": "ade64c0d",
   "metadata": {},
   "outputs": [
    {
     "name": "stdout",
     "output_type": "stream",
     "text": [
      "sentiment\n",
      "positive    60.0\n",
      "negative    40.0\n",
      "Name: count, dtype: float64\n"
     ]
    }
   ],
   "source": [
    "reviews['sentiment'] = ''\n",
    "\n",
    "for i, review in reviews.iterrows():\n",
    "    if 'amazing' in review['review'].lower() or 'great' in review['review'].lower() or 'excellent' in review['review'].lower():\n",
    "        reviews.at[i,'sentiment'] = 'positive'\n",
    "    elif 'disappointed' in review['review'].lower() or 'not happy' in review['review'].lower():\n",
    "        reviews.at[i,'sentiment'] = 'negative'  \n",
    "    else:\n",
    "        reviews.at[i,'sentiment'] = 'neutral'\n",
    "\n",
    "sentiment_counts = reviews['sentiment'].value_counts()\n",
    "sentiment_distribution = round(sentiment_counts / len(reviews) * 100, 2)\n",
    "\n",
    "print(sentiment_distribution)"
   ]
  },
  {
   "cell_type": "markdown",
   "id": "5fdeb068",
   "metadata": {},
   "source": [
    "## Extract key words or phrases from the reviews that frequently appear.\n"
   ]
  },
  {
   "cell_type": "code",
   "execution_count": 95,
   "id": "89b86d82",
   "metadata": {},
   "outputs": [
    {
     "name": "stdout",
     "output_type": "stream",
     "text": [
      "the    3\n",
      "is     2\n",
      "it.    2\n",
      "not    2\n",
      "Name: count, dtype: int64\n"
     ]
    }
   ],
   "source": [
    "\n",
    "words = reviews['review'].str.lower().str.split()\n",
    "word_list = []\n",
    "for i in words:\n",
    "    for w in i:\n",
    "        word_list.append(w)\n",
    "        \n",
    "counts = (pd.Series(word_list)).value_counts()  \n",
    "\n",
    "print(counts[counts >= 2])\n"
   ]
  },
  {
   "cell_type": "markdown",
   "id": "42397506",
   "metadata": {},
   "source": [
    "## Find and display the longest review along with its product ID.\n"
   ]
  },
  {
   "cell_type": "code",
   "execution_count": 73,
   "id": "83b8a1e6",
   "metadata": {},
   "outputs": [
    {
     "name": "stdout",
     "output_type": "stream",
     "text": [
      "Product: product_id                                               103\n",
      "review        Great value for the price. Highly recommended.\n",
      "Name: 2, dtype: object\n"
     ]
    }
   ],
   "source": [
    "\n",
    "reviews['length'] = reviews['review'].str.len()  \n",
    "longest_review = reviews.sort_values('length', ascending=False).iloc[0]\n",
    "\n",
    "print(f\"Product: {longest_review[0:2]}\")  "
   ]
  },
  {
   "cell_type": "code",
   "execution_count": 58,
   "id": "eceaa32f",
   "metadata": {},
   "outputs": [
    {
     "data": {
      "text/plain": [
       "product_id                                               103\n",
       "review        Great value for the price. Highly recommended.\n",
       "sentiment                                           positive\n",
       "length                                                    46\n",
       "Name: 2, dtype: object"
      ]
     },
     "execution_count": 58,
     "metadata": {},
     "output_type": "execute_result"
    }
   ],
   "source": [
    "longest_review"
   ]
  },
  {
   "cell_type": "markdown",
   "id": "9473e7df",
   "metadata": {},
   "source": [
    "## Identify products that have both positive and negative reviews.\n"
   ]
  },
  {
   "cell_type": "code",
   "execution_count": 98,
   "id": "40fca114",
   "metadata": {},
   "outputs": [
    {
     "name": "stderr",
     "output_type": "stream",
     "text": [
      "C:\\Users\\USER\\AppData\\Local\\Temp\\ipykernel_37028\\762293022.py:1: UserWarning: This pattern is interpreted as a regular expression, and has match groups. To actually get the groups, use str.extract.\n",
      "  positive_reviews = reviews.review[reviews.review.str.contains(\"(amazing|Great value|Excellent)&(not|Not)\")]\n"
     ]
    },
    {
     "data": {
      "text/plain": [
       "Series([], Name: review, dtype: object)"
      ]
     },
     "execution_count": 98,
     "metadata": {},
     "output_type": "execute_result"
    }
   ],
   "source": [
    "positive_reviews = reviews.review[reviews.review.str.contains(\"(amazing|Great value|Excellent)&(not|Not)\")]\n",
    "positive_reviews"
   ]
  },
  {
   "cell_type": "markdown",
   "id": "91f627c7",
   "metadata": {},
   "source": [
    "## Change the sentiment of a selected review from positive to negative and vice versa.\n",
    " "
   ]
  },
  {
   "cell_type": "code",
   "execution_count": 124,
   "id": "450fb247",
   "metadata": {},
   "outputs": [
    {
     "name": "stdout",
     "output_type": "stream",
     "text": [
      "0              This product is not amazing! I hate it.\n",
      "1    The quality is not not as expected. Disappointed.\n",
      "Name: review, dtype: object\n"
     ]
    }
   ],
   "source": [
    "replacements = {\n",
    "    \" is \": \" is not \",\n",
    "    \" love \": \" hate \",\n",
    "    \"Great value\": \"Worst\",\n",
    "    \"Highly\":\"Not\"\n",
    "}\n",
    "rotate = reviews.copy()\n",
    "for word, replacement in replacements.items():\n",
    "    rotate['review'] = rotate['review'].str.replace(word, replacement)\n",
    "    \n",
    "print(rotate.review[0:2])\n"
   ]
  },
  {
   "cell_type": "markdown",
   "id": "1c967ab4",
   "metadata": {},
   "source": [
    "## Compare the similarity between two selected reviews without using any similarity metrics directly.\n"
   ]
  },
  {
   "cell_type": "code",
   "execution_count": 138,
   "id": "b2d6d303",
   "metadata": {},
   "outputs": [
    {
     "name": "stdout",
     "output_type": "stream",
     "text": [
      "{'is'}\n",
      "{'love', 'it.', 'i', 'this', 'product', 'amazing!'}\n",
      "{'not', 'quality', 'expected.', 'disappointed.', 'as', 'the'}\n"
     ]
    }
   ],
   "source": [
    "review1 = reviews.review[0]\n",
    "review2 = reviews.review[1]\n",
    "\n",
    "review1_words = set(review1.lower().split())\n",
    "review2_words = set(review2.lower().split())\n",
    "\n",
    "common_words = review1_words.intersection(review2_words)\n",
    "\n",
    "review1_unique = review1_words - review2_words  \n",
    "review2_unique = review2_words - review1_words\n",
    "\n",
    "print(common_words)\n",
    "print(review1_unique)\n",
    "print(review2_unique)"
   ]
  },
  {
   "cell_type": "code",
   "execution_count": 136,
   "id": "240eda91",
   "metadata": {},
   "outputs": [
    {
     "data": {
      "text/plain": [
       "{'is'}"
      ]
     },
     "execution_count": 136,
     "metadata": {},
     "output_type": "execute_result"
    }
   ],
   "source": [
    "common_words"
   ]
  }
 ],
 "metadata": {
  "kernelspec": {
   "display_name": "Python 3 (ipykernel)",
   "language": "python",
   "name": "python3"
  },
  "language_info": {
   "codemirror_mode": {
    "name": "ipython",
    "version": 3
   },
   "file_extension": ".py",
   "mimetype": "text/x-python",
   "name": "python",
   "nbconvert_exporter": "python",
   "pygments_lexer": "ipython3",
   "version": "3.11.5"
  }
 },
 "nbformat": 4,
 "nbformat_minor": 5
}
