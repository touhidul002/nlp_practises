{
 "cells": [
  {
   "cell_type": "code",
   "execution_count": 1,
   "id": "4236ba98",
   "metadata": {},
   "outputs": [],
   "source": [
    "real_estate_data = [\n",
    "    {'property id': 1, 'property_type':'Apartment', 'size_sqft':1200,'location':\"Downtown\",'bedrooms':2,'price_usd':250000},\n",
    "    {'property id': 2, 'property_type':'House', 'size_sqft':2000,'location':\"Suburb\",'bedrooms':3,'price_usd':350000},\n",
    "    {'property id': 3, 'property_type':'Apartment', 'size_sqft':800,'location':\"Uptown\",'bedrooms':1,'price_usd':150000},\n",
    "    {'property id': 4, 'property_type':'Condo', 'size_sqft':1500,'location':\"Downtown\",'bedrooms':2,'price_usd':300000},\n",
    "    {'property id': 5, 'property_type':'House', 'size_sqft':1800,'location':\"Suburb\",'bedrooms':4,'price_usd':400000},\n",
    "]"
   ]
  },
  {
   "cell_type": "code",
   "execution_count": 3,
   "id": "d798653b",
   "metadata": {},
   "outputs": [],
   "source": [
    "import pandas as pd"
   ]
  },
  {
   "cell_type": "code",
   "execution_count": null,
   "id": "729ad247",
   "metadata": {},
   "outputs": [],
   "source": []
  },
  {
   "cell_type": "code",
   "execution_count": 4,
   "id": "69327f88",
   "metadata": {},
   "outputs": [],
   "source": [
    "df = pd.DataFrame(real_estate_data)"
   ]
  },
  {
   "cell_type": "code",
   "execution_count": 5,
   "id": "e3662ed3",
   "metadata": {},
   "outputs": [
    {
     "data": {
      "text/html": [
       "<div>\n",
       "<style scoped>\n",
       "    .dataframe tbody tr th:only-of-type {\n",
       "        vertical-align: middle;\n",
       "    }\n",
       "\n",
       "    .dataframe tbody tr th {\n",
       "        vertical-align: top;\n",
       "    }\n",
       "\n",
       "    .dataframe thead th {\n",
       "        text-align: right;\n",
       "    }\n",
       "</style>\n",
       "<table border=\"1\" class=\"dataframe\">\n",
       "  <thead>\n",
       "    <tr style=\"text-align: right;\">\n",
       "      <th></th>\n",
       "      <th>property id</th>\n",
       "      <th>property_type</th>\n",
       "      <th>size_sqft</th>\n",
       "      <th>location</th>\n",
       "      <th>bedrooms</th>\n",
       "      <th>price_usd</th>\n",
       "    </tr>\n",
       "  </thead>\n",
       "  <tbody>\n",
       "    <tr>\n",
       "      <th>0</th>\n",
       "      <td>1</td>\n",
       "      <td>Apartment</td>\n",
       "      <td>1200</td>\n",
       "      <td>Downtown</td>\n",
       "      <td>2</td>\n",
       "      <td>250000</td>\n",
       "    </tr>\n",
       "    <tr>\n",
       "      <th>1</th>\n",
       "      <td>2</td>\n",
       "      <td>House</td>\n",
       "      <td>2000</td>\n",
       "      <td>Suburb</td>\n",
       "      <td>3</td>\n",
       "      <td>350000</td>\n",
       "    </tr>\n",
       "    <tr>\n",
       "      <th>2</th>\n",
       "      <td>3</td>\n",
       "      <td>Apartment</td>\n",
       "      <td>800</td>\n",
       "      <td>Uptown</td>\n",
       "      <td>1</td>\n",
       "      <td>150000</td>\n",
       "    </tr>\n",
       "    <tr>\n",
       "      <th>3</th>\n",
       "      <td>4</td>\n",
       "      <td>Condo</td>\n",
       "      <td>1500</td>\n",
       "      <td>Downtown</td>\n",
       "      <td>2</td>\n",
       "      <td>300000</td>\n",
       "    </tr>\n",
       "    <tr>\n",
       "      <th>4</th>\n",
       "      <td>5</td>\n",
       "      <td>House</td>\n",
       "      <td>1800</td>\n",
       "      <td>Suburb</td>\n",
       "      <td>4</td>\n",
       "      <td>400000</td>\n",
       "    </tr>\n",
       "  </tbody>\n",
       "</table>\n",
       "</div>"
      ],
      "text/plain": [
       "   property id property_type  size_sqft  location  bedrooms  price_usd\n",
       "0            1     Apartment       1200  Downtown         2     250000\n",
       "1            2         House       2000    Suburb         3     350000\n",
       "2            3     Apartment        800    Uptown         1     150000\n",
       "3            4         Condo       1500  Downtown         2     300000\n",
       "4            5         House       1800    Suburb         4     400000"
      ]
     },
     "execution_count": 5,
     "metadata": {},
     "output_type": "execute_result"
    }
   ],
   "source": [
    "df"
   ]
  },
  {
   "cell_type": "markdown",
   "id": "073013d6",
   "metadata": {},
   "source": [
    "# 1"
   ]
  },
  {
   "cell_type": "code",
   "execution_count": 55,
   "id": "6f9709d8",
   "metadata": {},
   "outputs": [
    {
     "name": "stdout",
     "output_type": "stream",
     "text": [
      "Average_size of the properties is 1460.0 sqft\n"
     ]
    }
   ],
   "source": [
    "average_size = df[\"size_sqft\"].mean()\n",
    "print(f\"Average_size of the properties is {average_size} sqft\")"
   ]
  },
  {
   "cell_type": "markdown",
   "id": "6d39078e",
   "metadata": {},
   "source": [
    "# 2"
   ]
  },
  {
   "cell_type": "code",
   "execution_count": 16,
   "id": "0cd627a5",
   "metadata": {},
   "outputs": [
    {
     "name": "stdout",
     "output_type": "stream",
     "text": [
      "Downtown properties are given below  \n",
      "    property id property_type  size_sqft  location  bedrooms  price_usd\n",
      "0            1     Apartment       1200  Downtown         2     250000\n",
      "3            4         Condo       1500  Downtown         2     300000\n"
     ]
    }
   ],
   "source": [
    "down_town = df[df[\"location\"] == \"Downtown\"]\n",
    "print(f\"Downtown properties are given below  \\n {down_town}\")\n"
   ]
  },
  {
   "cell_type": "markdown",
   "id": "9e3ce349",
   "metadata": {},
   "source": [
    "# 3"
   ]
  },
  {
   "cell_type": "code",
   "execution_count": 19,
   "id": "343800c7",
   "metadata": {},
   "outputs": [
    {
     "name": "stdout",
     "output_type": "stream",
     "text": [
      "Properties with more than 3Lac$ given below  \n",
      "    property id property_type  size_sqft location  bedrooms  price_usd\n",
      "1            2         House       2000   Suburb         3     350000\n",
      "4            5         House       1800   Suburb         4     400000\n"
     ]
    }
   ],
   "source": [
    "h3l = df[df[\"price_usd\"] > 300000]\n",
    "print(f\"Properties with more than 3Lac$ given below  \\n {h3l}\")\n"
   ]
  },
  {
   "cell_type": "markdown",
   "id": "7029aac7",
   "metadata": {},
   "source": [
    "# 4"
   ]
  },
  {
   "cell_type": "code",
   "execution_count": 32,
   "id": "43d8f85c",
   "metadata": {},
   "outputs": [
    {
     "data": {
      "text/plain": [
       "property id       int64\n",
       "property_type    object\n",
       "size_sqft         int64\n",
       "location         object\n",
       "bedrooms          int64\n",
       "price_usd         int64\n",
       "dtype: object"
      ]
     },
     "execution_count": 32,
     "metadata": {},
     "output_type": "execute_result"
    }
   ],
   "source": [
    "df.dtypes"
   ]
  },
  {
   "cell_type": "markdown",
   "id": "4a7d07aa",
   "metadata": {},
   "source": [
    "# 5"
   ]
  },
  {
   "cell_type": "code",
   "execution_count": 22,
   "id": "95ac8df8",
   "metadata": {},
   "outputs": [
    {
     "name": "stdout",
     "output_type": "stream",
     "text": [
      "Apartment of below 2 Lac$ given below  \n",
      "    property id property_type  size_sqft location  bedrooms  price_usd\n",
      "2            3     Apartment        800   Uptown         1     150000\n"
     ]
    }
   ],
   "source": [
    "Ab2l = df[(df[\"property_type\"]==\"Apartment\") & (df[\"price_usd\"] < 200000)]\n",
    "print(f\"Apartment of below 2 Lac$ are given below  \\n {Ab2l}\")\n"
   ]
  },
  {
   "cell_type": "markdown",
   "id": "b11de78a",
   "metadata": {},
   "source": [
    "# 6"
   ]
  },
  {
   "cell_type": "code",
   "execution_count": 25,
   "id": "990a6eb3",
   "metadata": {},
   "outputs": [
    {
     "name": "stdout",
     "output_type": "stream",
     "text": [
      "House greater than 1800 sqft are given below  \n",
      "    property id property_type  size_sqft location  bedrooms  price_usd\n",
      "1            2         House       2000   Suburb         3     350000\n"
     ]
    }
   ],
   "source": [
    "sgt18k = df[df[\"size_sqft\"] > 1800]\n",
    "print(f\"House greater than 1800 sqft are given below  \\n {sgt18k}\")\n"
   ]
  },
  {
   "cell_type": "markdown",
   "id": "4e94102c",
   "metadata": {},
   "source": [
    "# 7"
   ]
  },
  {
   "cell_type": "code",
   "execution_count": 54,
   "id": "a35baa40",
   "metadata": {},
   "outputs": [
    {
     "name": "stdout",
     "output_type": "stream",
     "text": [
      "Average price of all properties are  198.61111111111114 usd\n"
     ]
    }
   ],
   "source": [
    "avg_price= (df.price_usd/df.size_sqft).sum()/len(df.price_usd)\n",
    "print(f\"Average price of all properties are  {avg_price} usd\")\n"
   ]
  },
  {
   "cell_type": "markdown",
   "id": "e525b790",
   "metadata": {},
   "source": [
    "# 8"
   ]
  },
  {
   "cell_type": "code",
   "execution_count": 30,
   "id": "e223fbbb",
   "metadata": {},
   "outputs": [
    {
     "data": {
      "text/plain": [
       "dtype('int64')"
      ]
     },
     "execution_count": 30,
     "metadata": {},
     "output_type": "execute_result"
    }
   ],
   "source": [
    "df[\"bedrooms\"].dtype"
   ]
  },
  {
   "cell_type": "markdown",
   "id": "1ecbc510",
   "metadata": {},
   "source": [
    "# 9"
   ]
  },
  {
   "cell_type": "code",
   "execution_count": 33,
   "id": "483093a6",
   "metadata": {},
   "outputs": [
    {
     "name": "stdout",
     "output_type": "stream",
     "text": [
      "Proerties of below 3 Lac$ with 3 bedroomsare given below  \n",
      " Empty DataFrame\n",
      "Columns: [property id, property_type, size_sqft, location, bedrooms, price_usd]\n",
      "Index: []\n"
     ]
    }
   ],
   "source": [
    "p3bb3l = df[(df[\"bedrooms\"]==3) & (df[\"price_usd\"] < 300000)]\n",
    "print(f\"Proerties of below 3 Lac$ with 3 bedroomsare given below  \\n {p3bb3l}\")"
   ]
  },
  {
   "cell_type": "code",
   "execution_count": 34,
   "id": "7ec8855c",
   "metadata": {},
   "outputs": [
    {
     "name": "stdout",
     "output_type": "stream",
     "text": [
      "no property\n"
     ]
    }
   ],
   "source": [
    "print(\"no property\")"
   ]
  },
  {
   "cell_type": "markdown",
   "id": "30a3b0c8",
   "metadata": {},
   "source": [
    "# 10"
   ]
  },
  {
   "cell_type": "code",
   "execution_count": 59,
   "id": "832942b8",
   "metadata": {},
   "outputs": [],
   "source": [
    "def cat(x):\n",
    "    if x >= 1200:\n",
    "        return \"Small\"\n",
    "    elif x < 1800:\n",
    "        return \"Medium\"\n",
    "    else:\n",
    "        return \"Big\"\n",
    "    \n",
    "    "
   ]
  },
  {
   "cell_type": "code",
   "execution_count": 61,
   "id": "a39194a1",
   "metadata": {},
   "outputs": [
    {
     "data": {
      "text/html": [
       "<div>\n",
       "<style scoped>\n",
       "    .dataframe tbody tr th:only-of-type {\n",
       "        vertical-align: middle;\n",
       "    }\n",
       "\n",
       "    .dataframe tbody tr th {\n",
       "        vertical-align: top;\n",
       "    }\n",
       "\n",
       "    .dataframe thead th {\n",
       "        text-align: right;\n",
       "    }\n",
       "</style>\n",
       "<table border=\"1\" class=\"dataframe\">\n",
       "  <thead>\n",
       "    <tr style=\"text-align: right;\">\n",
       "      <th></th>\n",
       "      <th>property id</th>\n",
       "      <th>property_type</th>\n",
       "      <th>size_sqft</th>\n",
       "      <th>location</th>\n",
       "      <th>bedrooms</th>\n",
       "      <th>price_usd</th>\n",
       "      <th>category</th>\n",
       "    </tr>\n",
       "  </thead>\n",
       "  <tbody>\n",
       "    <tr>\n",
       "      <th>0</th>\n",
       "      <td>1</td>\n",
       "      <td>Apartment</td>\n",
       "      <td>1200</td>\n",
       "      <td>Downtown</td>\n",
       "      <td>2</td>\n",
       "      <td>250000</td>\n",
       "      <td>Small</td>\n",
       "    </tr>\n",
       "    <tr>\n",
       "      <th>1</th>\n",
       "      <td>2</td>\n",
       "      <td>House</td>\n",
       "      <td>2000</td>\n",
       "      <td>Suburb</td>\n",
       "      <td>3</td>\n",
       "      <td>350000</td>\n",
       "      <td>Small</td>\n",
       "    </tr>\n",
       "    <tr>\n",
       "      <th>2</th>\n",
       "      <td>3</td>\n",
       "      <td>Apartment</td>\n",
       "      <td>800</td>\n",
       "      <td>Uptown</td>\n",
       "      <td>1</td>\n",
       "      <td>150000</td>\n",
       "      <td>Medium</td>\n",
       "    </tr>\n",
       "    <tr>\n",
       "      <th>3</th>\n",
       "      <td>4</td>\n",
       "      <td>Condo</td>\n",
       "      <td>1500</td>\n",
       "      <td>Downtown</td>\n",
       "      <td>2</td>\n",
       "      <td>300000</td>\n",
       "      <td>Small</td>\n",
       "    </tr>\n",
       "    <tr>\n",
       "      <th>4</th>\n",
       "      <td>5</td>\n",
       "      <td>House</td>\n",
       "      <td>1800</td>\n",
       "      <td>Suburb</td>\n",
       "      <td>4</td>\n",
       "      <td>400000</td>\n",
       "      <td>Small</td>\n",
       "    </tr>\n",
       "  </tbody>\n",
       "</table>\n",
       "</div>"
      ],
      "text/plain": [
       "   property id property_type  size_sqft  location  bedrooms  price_usd  \\\n",
       "0            1     Apartment       1200  Downtown         2     250000   \n",
       "1            2         House       2000    Suburb         3     350000   \n",
       "2            3     Apartment        800    Uptown         1     150000   \n",
       "3            4         Condo       1500  Downtown         2     300000   \n",
       "4            5         House       1800    Suburb         4     400000   \n",
       "\n",
       "  category  \n",
       "0    Small  \n",
       "1    Small  \n",
       "2   Medium  \n",
       "3    Small  \n",
       "4    Small  "
      ]
     },
     "execution_count": 61,
     "metadata": {},
     "output_type": "execute_result"
    }
   ],
   "source": [
    "df[\"category\"] = df[\"size_sqft\"].apply(cat).astype(\"category\")\n",
    "df"
   ]
  }
 ],
 "metadata": {
  "kernelspec": {
   "display_name": "Python 3 (ipykernel)",
   "language": "python",
   "name": "python3"
  },
  "language_info": {
   "codemirror_mode": {
    "name": "ipython",
    "version": 3
   },
   "file_extension": ".py",
   "mimetype": "text/x-python",
   "name": "python",
   "nbconvert_exporter": "python",
   "pygments_lexer": "ipython3",
   "version": "3.11.5"
  }
 },
 "nbformat": 4,
 "nbformat_minor": 5
}
