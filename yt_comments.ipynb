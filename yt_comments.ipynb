{
 "cells": [
  {
   "cell_type": "code",
   "execution_count": 4,
   "id": "5da4ef9a-4f5a-4302-a8e6-3b26b75f4c16",
   "metadata": {},
   "outputs": [
    {
     "name": "stdout",
     "output_type": "stream",
     "text": [
      "Recently had the privilege of meeting Raisul Kabir Bhai, and it was a valuable experience learning business insights. Blessed to have a kind-hearted senior brother in the software industry. Deeply respected. \n",
      "\n",
      "Love these episodes, but ami ekta point raise korte chai to these CEOs, what are they doing to ensure employee satisfaction and maintain an employee's work life balance? I have worked in the tech industry for 2 years and from what I saw and heard, employees in general are very burnt out, exhausted and unhappy. I agree eikhane both sides have their fair share of faults, but we all know how employees are treated in our culture. This is also one of the major reasons why people tend to go abroad for a better job opportunity resulting in BD a drainage of talents. I really hope 2cent can play a role here to raise voice on this.\n",
      "\n",
      "Thanks 2 Cents Podcast  to invite Brainstation 23 . Currently I am a student of CSE department  in Daffodil international University. I want to work with Brainstation 23 after my graduations, i hope i can do it in sha Allah. I love this company and take love Nafees Salim  vaiya  and  Sazzad  vaiya also 2 Cents Podcast .\n",
      "\n",
      "If possible brain station can build a common platform for small business. Many small entrepreneurs can be benefitted from him by investing small amount.  Brain station can keep in mind that individual business category can be modified afterwards according to the clients.\n",
      "\n",
      "45:00 Tnx a lot you guys for telling truth about western country \n",
      "\n",
      "Result মানে এই না যে সে ভালো পড়ালেখা করছে। Result মানে তাকে একটা দায়িত্ব দেওয়া হয়েছে সে কতটুকু শেষ করেছে তার মানদণ্ড \n",
      "\n",
      "Regarding your points on Tobacco, this industry is just destroying the generation, both graduates from so-called educated from top-ranked institutes and young people [ smoker- educated and non-educated]. It has become humanly impossible to take breathing in Dhaka city. Please make videos /sessions on this matter.\n",
      "\n",
      "Wonderful video , Good  quality, good content & love you  2 Cents Podcast  All  Team  ️️️\n",
      "\n",
      "আলহামদুলিল্লাহ ভাইয়া আপনারা অনেক ফেমাস।  তারপরও যদি আমাকে 2 cents podcast এর T-Shart গিফট করতেন তাহলে আমাদের এলাকায় অনেকেই জানতে পারতো। \n",
      "কষ্ট পাওয়ার জন্য আমি দুঃখিত \n",
      "\n",
      "অনেকদিন পরের মনের মত একটা পাটকাস্ট দেখলাম,,\"রাইসুল কবির \" উনার কথা গুলা খুব সুন্দর,  তিনি সুন্দর ভাবে সবকিছু এক্সপ্লেইন করেছে। আমার দেখা একজন টেলেন্টেট ব্যক্তি\n",
      "\n",
      "You guyz are doing great work. Appreciate it. Just a suggestion- Allow guest to talk more. I found host was talking too much and interrupted multiple times when guest was trying to put a view. Thanks\n",
      "\n",
      "ভালোবাসার সাজ্জাদ আর নাফিস। আল্লাহ আমাদের সবাইকে এগিয়ে নিক।\n",
      "\n",
      "Proud to be a part of #BrainStation 23\n",
      "\n",
      "Very good podcast\n",
      "\n",
      "মাশাল্লাহ শুভকামনা রইল\n",
      "\n",
      "I was thinking About this Person that why are not 2 cent  bringing Raisul Kabir....?\n",
      "Now.....!!\n",
      "ALHAMDULILLAH.... \n",
      "\n",
      "Amazing!\n",
      "\n",
      "আপনারা একটা খুব গুরুত্বপূর্ণ বিষয় নিয়ে আলোচনা করেছেন। ভাই যে বলেছেন, দেশে-বিদেশে থাকা না-থাকা উনিশ-বিশের মতো, আসলে তাই। আমাদের উভয় দেশ থেকে ভালোগুলো গ্রহণ করতে হবে। যেমন বিদেশের শিক্ষা ভালো, নিতে পারি কিন্তু ওদের ফ্যামিলি ভ্যালুজগুলো থেকে আমাদের ভ্যালুজগুলো অনেক ভালো। আমেরিকার এক বিখ্যাত কোম্পনীতে আমি, আমার স্ত্রী ও দুই ছেলে চাকরি করি। ওরা আমাদের এই ফ্যামিলি বন্ডিং দেখে অবাক হয়! তখন তারা তাদের দুঃখের কথা শেয়ার করে। কেউ ছেলেমেয়ে ছাড়া, কেউ বাপমা ছাড়া, করো বয় বা গার্ল ফ্রেন্ড ধোকা দিয়েছে, ইত্যাদি।\n",
      "\n",
      "24:20  \n",
      "1+1=2 but there are thousands and millions of formulas that can represent this same number. Likewise, there are certain formulas for success. You need to add your values(hard work, effort etc) to the formula according to your preferences. Don't blame mathematics or  science   until you know how, when, or where  to use  this properly .\n",
      "\n",
      "Well said Nafees vai about foreign country context, but, right now in Bangladesh authority is following the same thing as our children are injected in any how which is terrible and sad! I am very upset even for this\n",
      "\n"
     ]
    }
   ],
   "source": [
    "from selenium import webdriver\n",
    "from selenium.webdriver.common.by import By\n",
    "\n",
    "import time\n",
    "\n",
    "PATH = r'C:\\Users\\touhid\\Downloads\\chrome-win32\\chrome.exe'\n",
    "\n",
    "target_url = \"https://www.youtube.com/watch?v=qsdRHwjdvlA&t=1187s\"\n",
    "\n",
    "driver = webdriver.Chrome()\n",
    "driver.maximize_window()\n",
    "\n",
    "driver.get(target_url)\n",
    "for j in range(0,500, 50):\n",
    "    driver.execute_script(f'window.scrollTo(0,{j});')\n",
    "    time.sleep(0.2)\n",
    "\n",
    "c= driver.find_elements(By.XPATH,'//yt-formatted-string[@id=\"content-text\"]')\n",
    "for i in c:\n",
    "    print(i.text, end=\"\\n\\n\")"
   ]
  },
  {
   "cell_type": "code",
   "execution_count": null,
   "id": "184d4511-816b-4da3-ace3-13868ad5d12a",
   "metadata": {},
   "outputs": [],
   "source": []
  }
 ],
 "metadata": {
  "kernelspec": {
   "display_name": "Python 3 (ipykernel)",
   "language": "python",
   "name": "python3"
  },
  "language_info": {
   "codemirror_mode": {
    "name": "ipython",
    "version": 3
   },
   "file_extension": ".py",
   "mimetype": "text/x-python",
   "name": "python",
   "nbconvert_exporter": "python",
   "pygments_lexer": "ipython3",
   "version": "3.12.0"
  }
 },
 "nbformat": 4,
 "nbformat_minor": 5
}
