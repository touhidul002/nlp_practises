{
 "cells": [
  {
   "cell_type": "code",
   "execution_count": 6,
   "id": "7d5063be",
   "metadata": {},
   "outputs": [],
   "source": [
    "import numpy as np\n",
    "\n",
    "# Example: Predicted labels (1 for positive, 0 for negative)\n",
    "predicted_labels = np.array([1, 1, 0, 1, 0, 1, 0, 1, 1, 0])\n",
    "\n",
    "# Example: True labels (1 for positive, 0 for negative)\n",
    "true_labels      = np.array([1, 0, 0, 1, 1, 1, 0, 0, 1, 0])\n"
   ]
  },
  {
   "cell_type": "markdown",
   "id": "87a3843c",
   "metadata": {},
   "source": [
    "# Accuracy"
   ]
  },
  {
   "cell_type": "code",
   "execution_count": 7,
   "id": "fbaf6ee8",
   "metadata": {},
   "outputs": [
    {
     "data": {
      "text/plain": [
       "0.7"
      ]
     },
     "execution_count": 7,
     "metadata": {},
     "output_type": "execute_result"
    }
   ],
   "source": [
    "accuracy = np.mean(predicted_labels == true_labels)\n",
    "accuracy\n"
   ]
  },
  {
   "cell_type": "markdown",
   "id": "7aa4d76c",
   "metadata": {},
   "source": [
    "# precision"
   ]
  },
  {
   "cell_type": "code",
   "execution_count": 11,
   "id": "cb2acb7c",
   "metadata": {},
   "outputs": [
    {
     "data": {
      "text/plain": [
       "0.6666666666666666"
      ]
     },
     "execution_count": 11,
     "metadata": {},
     "output_type": "execute_result"
    }
   ],
   "source": [
    "TP = np.sum((predicted_labels == 1) & (true_labels == 1))\n",
    "FP = np.sum((predicted_labels == 1) & (true_labels == 0))\n",
    "precision = TP / (TP+FP)\n",
    "precision"
   ]
  },
  {
   "cell_type": "markdown",
   "id": "630b321a",
   "metadata": {},
   "source": [
    "# recall"
   ]
  },
  {
   "cell_type": "code",
   "execution_count": 12,
   "id": "6fa0e255",
   "metadata": {},
   "outputs": [
    {
     "data": {
      "text/plain": [
       "0.42857142857142855"
      ]
     },
     "execution_count": 12,
     "metadata": {},
     "output_type": "execute_result"
    }
   ],
   "source": [
    "TN = np.sum((predicted_labels == 0) & (true_labels == 0))\n",
    "FP = np.sum((predicted_labels == 1) & (true_labels == 0))\n",
    "recall = TN/(TP+TN)\n",
    "recall"
   ]
  },
  {
   "cell_type": "markdown",
   "id": "44490cba",
   "metadata": {},
   "source": [
    "# f1 score"
   ]
  },
  {
   "cell_type": "code",
   "execution_count": 14,
   "id": "5711d28c",
   "metadata": {},
   "outputs": [
    {
     "data": {
      "text/plain": [
       "0.2608695652173913"
      ]
     },
     "execution_count": 14,
     "metadata": {},
     "output_type": "execute_result"
    }
   ],
   "source": [
    "f1 = 2* (precision *recall)/(precision + recall)\n",
    "f1"
   ]
  },
  {
   "cell_type": "markdown",
   "id": "ba1f2e80",
   "metadata": {},
   "source": [
    "# confusion matrix"
   ]
  },
  {
   "cell_type": "code",
   "execution_count": 16,
   "id": "423f6373",
   "metadata": {},
   "outputs": [
    {
     "data": {
      "text/plain": [
       "(4, 3, 2, 2)"
      ]
     },
     "execution_count": 16,
     "metadata": {},
     "output_type": "execute_result"
    }
   ],
   "source": [
    "TP =  np.sum((predicted_labels == 1) & (true_labels == 1))\n",
    "FP = np.sum((predicted_labels == 1) & (true_labels == 0)) \n",
    "FN = np.sum((predicted_labels == 1) & (true_labels == 0))\n",
    "TN = np.sum((predicted_labels == 0) & (true_labels == 0))\n",
    "TP, TN, FP, FN"
   ]
  },
  {
   "cell_type": "markdown",
   "id": "0a6c8fbd",
   "metadata": {},
   "source": [
    "# Prevalence"
   ]
  },
  {
   "cell_type": "code",
   "execution_count": 18,
   "id": "e198a975",
   "metadata": {},
   "outputs": [
    {
     "data": {
      "text/plain": [
       "0.5"
      ]
     },
     "execution_count": 18,
     "metadata": {},
     "output_type": "execute_result"
    }
   ],
   "source": [
    "P =  np.sum(true_labels == 1)\n",
    "N = np.sum(true_labels == 0)\n",
    "\n",
    "prevalence = P/(P+N)\n",
    "prevalence"
   ]
  },
  {
   "cell_type": "markdown",
   "id": "a08edb94",
   "metadata": {},
   "source": [
    "# specificity"
   ]
  },
  {
   "cell_type": "code",
   "execution_count": 19,
   "id": "593a4951",
   "metadata": {},
   "outputs": [
    {
     "data": {
      "text/plain": [
       "0.6"
      ]
     },
     "execution_count": 19,
     "metadata": {},
     "output_type": "execute_result"
    }
   ],
   "source": [
    "SP = TN/(TN+ FN)\n",
    "SP"
   ]
  }
 ],
 "metadata": {
  "kernelspec": {
   "display_name": "Python 3 (ipykernel)",
   "language": "python",
   "name": "python3"
  },
  "language_info": {
   "codemirror_mode": {
    "name": "ipython",
    "version": 3
   },
   "file_extension": ".py",
   "mimetype": "text/x-python",
   "name": "python",
   "nbconvert_exporter": "python",
   "pygments_lexer": "ipython3",
   "version": "3.11.5"
  }
 },
 "nbformat": 4,
 "nbformat_minor": 5
}
